{
 "cells": [
  {
   "cell_type": "markdown",
   "metadata": {},
   "source": [
    "'''\n",
    "\n",
    "Algoritmo:\n",
    "1. Abre o site https://veiculos.fipe.org.br/#carro-comum\n",
    "2. Extrai os dados de carros, caminhões e motos\n",
    "3. Exporta para uma planilha com três abas, uma para cada\n",
    "\n",
    "'''"
   ]
  },
  {
   "cell_type": "code",
   "execution_count": 1,
   "metadata": {},
   "outputs": [],
   "source": [
    "from selenium import webdriver\n",
    "from selenium.webdriver.chrome.service import Service\n",
    "from selenium.webdriver.common.by import By\n",
    "from time import sleep\n",
    "import pandas as pd\n",
    "from tkinter import messagebox"
   ]
  },
  {
   "cell_type": "code",
   "execution_count": 37,
   "metadata": {},
   "outputs": [],
   "source": [
    "caminho = r'C:\\Users\\wellington\\Desktop\\Suporte Atendimento\\projetos\\APIFipe\\APIFipe\\chromedriver-win64\\chromedriver.exe'  # Path do chromedriver\n",
    "servico = Service(caminho)  # Configura o serviço do ChromeDriver\n",
    "navegador = webdriver.Chrome(service=servico)  # Cria o navegador\n",
    "navegador.set_window_size(930,1014)  # Define o tamanho da tela"
   ]
  },
  {
   "cell_type": "code",
   "execution_count": 41,
   "metadata": {},
   "outputs": [],
   "source": [
    "def extrai_veiculos(veiculos:list) -> tuple:\n",
    "  '''\n",
    "  Inicia a extração dos veículos da tabela FIPE\n",
    "\n",
    "  Parâmetros:\n",
    "    - veiculos: é uma das posições da tabela de veículos da FIPE (carros, caminhões ou motos)\n",
    "  \n",
    "  Retorno:\n",
    "    - tuple: tupla com todos os modelos, anos e montadoras\n",
    "  '''\n",
    "  veiculos.click()\n",
    "  carros = veiculos.find_element(By.CLASS_NAME, 'horizontal')\n",
    "  artigos_html = carros.find_elements(By.TAG_NAME, 'article')\n",
    "  formulario = artigos_html[0].find_element(By.CLASS_NAME, 'form')\n",
    "  step_1 = formulario.find_element(By.CLASS_NAME, 'step-1')\n",
    "  step_2 = formulario.find_element(By.CLASS_NAME, 'step-2')\n",
    "  entrada_carros = step_1.find_element(By.CLASS_NAME, 'input')\n",
    "\n",
    "  sleep(0.8)\n",
    "  entrada_carros.click()\n",
    "  \n",
    "  seletor = entrada_carros.find_element(By.TAG_NAME, 'select')\n",
    "  opcoes_carros = seletor.find_elements(By.TAG_NAME, 'option')\n",
    "\n",
    "  lista_montadoras = []\n",
    "  lista_anos = []\n",
    "  lista_modelos = []\n",
    "  for op in opcoes_carros:\n",
    "    if op.text == '': continue\n",
    "\n",
    "    lista_montadoras.append(op.text)\n",
    "    sleep(0.8)\n",
    "    op.click()\n",
    "    tupla_listas = seleciona_ano(step_2)\n",
    "    lista_anos.append(tupla_listas[0])\n",
    "    lista_modelos.append(tupla_listas[1])\n",
    "  \n",
    "  sleep(0.8)\n",
    "  entrada_carros.click()\n",
    "  \n",
    "  return (lista_montadoras, lista_anos, lista_modelos)\n",
    "  \n",
    "\n",
    "\n",
    "def seleciona_ano(step_2) -> tuple:\n",
    "  '''\n",
    "  Extrai todos os anos da montadora em questão\n",
    "\n",
    "  Parâmetros:\n",
    "    - step_2: o step-2 da tabela, onde se localiza a lista de anos e modelos da montadora selecionada\n",
    "\n",
    "  Retorna:\n",
    "    - tuple: uma tupla com os modelos e os anos\n",
    "  '''\n",
    "  entradas = step_2.find_elements(By.CLASS_NAME, 'input')\n",
    "\n",
    "  sleep(0.8)\n",
    "  entradas[1].click()\n",
    "\n",
    "  seletor = entradas[1].find_element(By.TAG_NAME, 'select')\n",
    "  opcoes_ano = seletor.find_elements(By.TAG_NAME, 'option')\n",
    "\n",
    "  lista_anos = []\n",
    "  lista_modelos = []\n",
    "  for op in opcoes_ano:\n",
    "    if op.text == '': continue\n",
    "\n",
    "    lista_anos.append(op.text)\n",
    "    sleep(0.8)\n",
    "    op.click()\n",
    "    item_modelos = seleciona_modelo(entradas[0])\n",
    "    lista_modelos.append(item_modelos)\n",
    "  \n",
    "  return (lista_anos, lista_modelos)\n",
    "\n",
    "\n",
    "def seleciona_modelo(entrada) -> list:\n",
    "  '''\n",
    "  Extrai todos os modelos do ano em questão\n",
    "\n",
    "  Parâmetros:\n",
    "    - entrada: um input do step-2 da tabela, onde se localiza a lista de modelos do ano selecionado\n",
    "\n",
    "  Retorna:\n",
    "    - list: uma lista com os modelos do an1.5\n",
    "  '''\n",
    "  sleep(0.8)\n",
    "  entrada.click()\n",
    "\n",
    "  seletor = entrada.find_element(By.TAG_NAME, 'select')\n",
    "  opcoes_modelo = seletor.find_elements(By.TAG_NAME, 'option')\n",
    "\n",
    "  lista_modelos = []\n",
    "  for op in opcoes_modelo:\n",
    "    if op.text == '': continue\n",
    "    \n",
    "    lista_modelos.append(op.text)\n",
    "\n",
    "  return lista_modelos"
   ]
  },
  {
   "cell_type": "code",
   "execution_count": 42,
   "metadata": {},
   "outputs": [],
   "source": [
    "sleep(0.8)\n",
    "\n",
    "navegador.get('https://veiculos.fipe.org.br/#carro-comum')\n",
    "\n",
    "messagebox.showinfo(title='Início', message='Pode iniciar?')\n",
    "\n",
    "tabela_veiculos = navegador.find_element(By.CLASS_NAME, 'tab-veiculos')\n",
    "veiculos = tabela_veiculos.find_elements(By.CLASS_NAME, 'ilustra')\n"
   ]
  },
  {
   "cell_type": "code",
   "execution_count": 32,
   "metadata": {},
   "outputs": [
    {
     "data": {
      "text/plain": [
       "'ok'"
      ]
     },
     "execution_count": 32,
     "metadata": {},
     "output_type": "execute_result"
    }
   ],
   "source": [
    "# CARROS \n",
    "tupla_modelos = extrai_veiculos(veiculos[0])\n",
    "\n",
    "montadoras = tupla_modelos[0]\n",
    "anos = tupla_modelos[1]\n",
    "modelos = tupla_modelos[2]\n",
    "\n",
    "montadoras_lista = []\n",
    "anos_lista = []\n",
    "modelos_lista = []\n",
    "ciclo_montadora = 0\n",
    "while ciclo_montadora < len(montadoras):\n",
    "  for index_ano in range(len(anos[ciclo_montadora])):\n",
    "    for index_mod in range(len(modelos[ciclo_montadora][index_ano])):\n",
    "      montadoras_lista.append(montadoras[ciclo_montadora])\n",
    "      anos_lista.append(anos[ciclo_montadora][index_ano])\n",
    "      modelos_lista.append(modelos[ciclo_montadora][index_ano][index_mod])\n",
    "\n",
    "  ciclo_montadora += 1\n",
    "\n",
    "montadoras_ano_carros = {\n",
    "        'Montadrora': montadoras_lista,\n",
    "        'Ano': anos_lista,\n",
    "        'Modelo': modelos_lista\n",
    "        }\n",
    "\n",
    "veiculos = pd.DataFrame(montadoras_ano_carros)\n",
    "\n",
    "veiculos.to_excel('FIPE.xlsx')\n",
    "messagebox.showinfo(title='Fipe - Carros', message='A Tabela da Fipe Carros foi atualizada!')\n"
   ]
  },
  {
   "cell_type": "code",
   "execution_count": 40,
   "metadata": {},
   "outputs": [
    {
     "data": {
      "text/plain": [
       "'ok'"
      ]
     },
     "execution_count": 40,
     "metadata": {},
     "output_type": "execute_result"
    }
   ],
   "source": [
    "# CAMINHÕES\n",
    "tupla_modelos = extrai_veiculos(veiculos[1])\n",
    "\n",
    "montadoras = tupla_modelos[0]\n",
    "anos = tupla_modelos[1]\n",
    "modelos = tupla_modelos[2]\n",
    "\n",
    "montadoras_lista = []\n",
    "anos_lista = []\n",
    "modelos_lista = []\n",
    "ciclo_montadora = 0\n",
    "while ciclo_montadora < len(montadoras):\n",
    "  for index_ano in range(len(anos[ciclo_montadora])):\n",
    "    for index_mod in range(len(modelos[ciclo_montadora][index_ano])):\n",
    "      montadoras_lista.append(montadoras[ciclo_montadora])\n",
    "      anos_lista.append(anos[ciclo_montadora][index_ano])\n",
    "      modelos_lista.append(modelos[ciclo_montadora][index_ano][index_mod])\n",
    "\n",
    "  ciclo_montadora += 1\n",
    "\n",
    "montadoras_ano_carros = {\n",
    "        'Montadrora': montadoras_lista,\n",
    "        'Ano': anos_lista,\n",
    "        'Modelo': modelos_lista\n",
    "        }\n",
    "\n",
    "veiculos = pd.DataFrame(montadoras_ano_carros)\n",
    "\n",
    "veiculos.to_excel('FIPE-Caminhão.xlsx')\n",
    "messagebox.showinfo(title='Fipe - Caminhões', message='A Tabela da Fipe Caminhões foi atualizada!')"
   ]
  },
  {
   "cell_type": "code",
   "execution_count": 43,
   "metadata": {},
   "outputs": [
    {
     "data": {
      "text/plain": [
       "'ok'"
      ]
     },
     "execution_count": 43,
     "metadata": {},
     "output_type": "execute_result"
    }
   ],
   "source": [
    "# MOTOS\n",
    "tupla_modelos = extrai_veiculos(veiculos[2])\n",
    "\n",
    "montadoras = tupla_modelos[0]\n",
    "anos = tupla_modelos[1]\n",
    "modelos = tupla_modelos[2]\n",
    "\n",
    "montadoras_lista = []\n",
    "anos_lista = []\n",
    "modelos_lista = []\n",
    "ciclo_montadora = 0\n",
    "while ciclo_montadora < len(montadoras):\n",
    "  for index_ano in range(len(anos[ciclo_montadora])):\n",
    "    for index_mod in range(len(modelos[ciclo_montadora][index_ano])):\n",
    "      montadoras_lista.append(montadoras[ciclo_montadora])\n",
    "      anos_lista.append(anos[ciclo_montadora][index_ano])\n",
    "      modelos_lista.append(modelos[ciclo_montadora][index_ano][index_mod])\n",
    "\n",
    "  ciclo_montadora += 1\n",
    "\n",
    "montadoras_ano_carros = {\n",
    "        'Montadrora': montadoras_lista,\n",
    "        'Ano': anos_lista,\n",
    "        'Modelo': modelos_lista\n",
    "        }\n",
    "\n",
    "veiculos = pd.DataFrame(montadoras_ano_carros)\n",
    "\n",
    "veiculos.to_excel('FIPE-Motos.xlsx')\n",
    "messagebox.showinfo(title='Fipe - Motos', message='A Tabela da Fipe Motos foi atualizada!')"
   ]
  },
  {
   "cell_type": "code",
   "execution_count": 30,
   "metadata": {},
   "outputs": [
    {
     "ename": "IndexError",
     "evalue": "list index out of range",
     "output_type": "error",
     "traceback": [
      "\u001b[1;31m---------------------------------------------------------------------------\u001b[0m",
      "\u001b[1;31mIndexError\u001b[0m                                Traceback (most recent call last)",
      "Cell \u001b[1;32mIn[30], line 16\u001b[0m\n\u001b[0;32m     14\u001b[0m     \u001b[38;5;28;01mfor\u001b[39;00m index_mod \u001b[38;5;129;01min\u001b[39;00m \u001b[38;5;28mrange\u001b[39m(\u001b[38;5;28mlen\u001b[39m(modelos[\u001b[38;5;241m0\u001b[39m][\u001b[38;5;241m0\u001b[39m])):\n\u001b[0;32m     15\u001b[0m       montadoras_lista\u001b[38;5;241m.\u001b[39mappend(montadoras[index_mont])\n\u001b[1;32m---> 16\u001b[0m       anos_lista\u001b[38;5;241m.\u001b[39mappend(\u001b[43manos\u001b[49m\u001b[43m[\u001b[49m\u001b[43mindex_mont\u001b[49m\u001b[43m]\u001b[49m\u001b[43m[\u001b[49m\u001b[43mindex_ano\u001b[49m\u001b[43m]\u001b[49m)\n\u001b[0;32m     17\u001b[0m       modelos_lista\u001b[38;5;241m.\u001b[39mappend(modelos[index_mont][index_ano][index_mod])\n\u001b[0;32m     19\u001b[0m montadoras_ano_carros \u001b[38;5;241m=\u001b[39m {\n\u001b[0;32m     20\u001b[0m         \u001b[38;5;124m'\u001b[39m\u001b[38;5;124mMontadrora\u001b[39m\u001b[38;5;124m'\u001b[39m: montadoras_lista,\n\u001b[0;32m     21\u001b[0m         \u001b[38;5;124m'\u001b[39m\u001b[38;5;124mAno\u001b[39m\u001b[38;5;124m'\u001b[39m: anos_lista,\n\u001b[0;32m     22\u001b[0m         \u001b[38;5;124m'\u001b[39m\u001b[38;5;124mModelo\u001b[39m\u001b[38;5;124m'\u001b[39m: modelos_lista\n\u001b[0;32m     23\u001b[0m         }\n",
      "\u001b[1;31mIndexError\u001b[0m: list index out of range"
     ]
    }
   ],
   "source": [
    "# TODOS JUNTOS\n",
    "for ciclo in range(3):\n",
    "  tupla_modelos = extrai_veiculos(veiculos[ciclo])\n",
    "\n",
    "  montadoras = tupla_modelos[0]\n",
    "  anos = tupla_modelos[1]\n",
    "  modelos = tupla_modelos[2]\n",
    "\n",
    "  montadoras_lista = []\n",
    "  anos_lista = []\n",
    "  modelos_lista = []\n",
    "  ciclo_montadora = 0\n",
    "  while ciclo_montadora < len(montadoras):\n",
    "    for index_ano in range(len(anos[ciclo_montadora])):\n",
    "      for index_mod in range(len(modelos[ciclo_montadora][index_ano])):\n",
    "        montadoras_lista.append(montadoras[ciclo_montadora])\n",
    "        anos_lista.append(anos[ciclo_montadora][index_ano])\n",
    "        modelos_lista.append(modelos[ciclo_montadora][index_ano][index_mod])\n",
    "\n",
    "    ciclo_montadora += 1\n",
    "\n",
    "  montadoras_ano_carros = {\n",
    "          'Montadrora': montadoras_lista,\n",
    "          'Ano': anos_lista,\n",
    "          'Modelo': modelos_lista\n",
    "          }\n",
    "\n",
    "  veiculos = pd.DataFrame(montadoras_ano_carros)\n",
    "\n",
    "  if ciclo == 0:\n",
    "    veiculos.to_excel('FIPE.xlsx')\n",
    "    messagebox.showinfo(title='Fipe - Carros', message='A Tabela da Fipe Carros foi atualizada!')\n",
    "  elif ciclo == 1:\n",
    "    veiculos.to_excel('FIPE-Caminhão.xlsx')\n",
    "    messagebox.showinfo(title='Fipe - Caminhões', message='A Tabela da Fipe Caminhões foi atualizada!')\n",
    "  elif ciclo == 2:\n",
    "    veiculos.to_excel('FIPE-Motos.xlsx')\n",
    "    messagebox.showinfo(title='Fipe - Motos', message='A Tabela da Fipe Motos foi atualizada!')\n",
    "\n",
    "navegador.quit()"
   ]
  }
 ],
 "metadata": {
  "kernelspec": {
   "display_name": "venv",
   "language": "python",
   "name": "python3"
  },
  "language_info": {
   "codemirror_mode": {
    "name": "ipython",
    "version": 3
   },
   "file_extension": ".py",
   "mimetype": "text/x-python",
   "name": "python",
   "nbconvert_exporter": "python",
   "pygments_lexer": "ipython3",
   "version": "3.12.2"
  }
 },
 "nbformat": 4,
 "nbformat_minor": 2
}
